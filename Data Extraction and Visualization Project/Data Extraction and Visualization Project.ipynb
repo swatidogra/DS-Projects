{
 "cells": [
  {
   "cell_type": "code",
   "execution_count": 123,
   "id": "afb7049c-4aba-467d-885e-54201157a11c",
   "metadata": {},
   "outputs": [],
   "source": [
    "\n",
    "# Swati Dogra\n",
    "# DSC 540\n",
    "# Week 7 & 8 Excercises\n"
   ]
  },
  {
   "cell_type": "code",
   "execution_count": 125,
   "id": "a26ad5a5-6acb-48ca-998d-8db779ea9dbc",
   "metadata": {},
   "outputs": [],
   "source": [
    "# Load necessary libraries\n",
    "import numpy as np\n",
    "import pandas as pd"
   ]
  },
  {
   "cell_type": "code",
   "execution_count": 127,
   "id": "62fbe688-08c8-4e7e-8f5f-008fe75115cf",
   "metadata": {},
   "outputs": [],
   "source": [
    "# Excercise 7.1 -  Extracting the top 100 ebooks from gutenberg"
   ]
  },
  {
   "cell_type": "code",
   "execution_count": 129,
   "id": "10c9da94-17b9-4315-89c9-3db2dab3daa7",
   "metadata": {},
   "outputs": [],
   "source": [
    "# import necessary libraries \n",
    "\n",
    "import urllib.request, urllib.parse, urllib.error\n",
    "import requests\n",
    "from bs4 import BeautifulSoup\n",
    "import ssl\n",
    "import re"
   ]
  },
  {
   "cell_type": "code",
   "execution_count": 131,
   "id": "c2047a9c-155d-4345-bde8-c5d40b572211",
   "metadata": {},
   "outputs": [],
   "source": [
    "# read html file from the gutenberg url\n",
    "\n",
    "top100url = 'https://www.gutenberg.org/browse/scores/top'\n",
    "response = requests.get(top100url)"
   ]
  },
  {
   "cell_type": "code",
   "execution_count": 132,
   "id": "099e330a-2bcf-4769-8f08-050cfdd4148e",
   "metadata": {},
   "outputs": [],
   "source": [
    "# function to check status of web request\n",
    "\n",
    "def status_check(r):\n",
    "    if r.status_code == 200:\n",
    "        print (\"Success!\")\n",
    "        return 1\n",
    "    else:\n",
    "        print (\"Failed!\")\n",
    "        return -1"
   ]
  },
  {
   "cell_type": "code",
   "execution_count": 133,
   "id": "f1b420d1-da6b-4889-a9d6-8d1d78fc8284",
   "metadata": {},
   "outputs": [
    {
     "name": "stdout",
     "output_type": "stream",
     "text": [
      "Success!\n"
     ]
    },
    {
     "data": {
      "text/plain": [
       "1"
      ]
     },
     "execution_count": 133,
     "metadata": {},
     "output_type": "execute_result"
    }
   ],
   "source": [
    "# status of response\n",
    "\n",
    "status_check(response)"
   ]
  },
  {
   "cell_type": "code",
   "execution_count": 135,
   "id": "a295697e-4363-4bdf-80b2-e39532273fc5",
   "metadata": {},
   "outputs": [],
   "source": [
    "# Decode the response and pass it on to Beautifulsoup for html parsing\n",
    "\n",
    "contents = response.content.decode(response.encoding)\n",
    "soup = BeautifulSoup(contents, 'html.parser')"
   ]
  },
  {
   "cell_type": "code",
   "execution_count": 139,
   "id": "208c7da1-600b-466d-916a-9c44d5dc1fe9",
   "metadata": {},
   "outputs": [],
   "source": [
    "# find all href tags and store them in the list of links\n",
    "\n",
    "#Empty list to hold all the http links in the HTML page\n",
    "\n",
    "lst_links=[]\n",
    "\n",
    "for link in soup.find_all('a'):\n",
    "    #print(link.get('href'))\n",
    "    lst_links.append(link.get('href'))"
   ]
  },
  {
   "cell_type": "code",
   "execution_count": 141,
   "id": "205bebfb-f6e9-47ac-b225-95b9ea75581f",
   "metadata": {},
   "outputs": [
    {
     "data": {
      "text/plain": [
       "['/',\n",
       " '/about/',\n",
       " '/about/',\n",
       " '/policy/collection_development.html',\n",
       " '/about/contact_information.html',\n",
       " '/about/background/',\n",
       " '/policy/permission.html',\n",
       " '/policy/privacy_policy.html',\n",
       " '/policy/terms_of_use.html',\n",
       " '/ebooks/',\n",
       " '/ebooks/',\n",
       " '/ebooks/bookshelf/',\n",
       " '/browse/scores/top',\n",
       " '/ebooks/offline_catalogs.html',\n",
       " '/help/',\n",
       " '/help/',\n",
       " '/help/copyright.html',\n",
       " '/help/errata.html',\n",
       " '/help/file_formats.html',\n",
       " '/help/faq.html',\n",
       " '/policy/',\n",
       " '/help/public_domain_ebook_submission.html',\n",
       " '/help/submitting_your_own_work.html',\n",
       " '/help/mobile.html',\n",
       " '/attic/',\n",
       " '/donate/',\n",
       " '/donate/',\n",
       " '#books-last1',\n",
       " '#authors-last1',\n",
       " '#books-last7']"
      ]
     },
     "execution_count": 141,
     "metadata": {},
     "output_type": "execute_result"
    }
   ],
   "source": [
    "# print first 30 elements\n",
    "\n",
    "lst_links[:30]"
   ]
  },
  {
   "cell_type": "code",
   "execution_count": 143,
   "id": "5f0b0a20-ebbd-4e14-a258-4eea13ee02bb",
   "metadata": {},
   "outputs": [
    {
     "name": "stdout",
     "output_type": "stream",
     "text": [
      "/n The file numbers for the top 100 ebooks on Gutenberg are shown below\n",
      "----------------------------------------------------------------------\n",
      "[1, 1, 7, 7, 30, 30, 33283, 1513, 2701, 1342, 2641, 100, 145, 37106, 16389, 67979, 6761, 394, 2160, 4085, 6593, 1259, 5197, 84, 11, 345, 2554, 74101, 74103, 5200, 174, 64317, 2600, 1661, 50150, 2000, 24022, 4300, 28054, 49010, 55, 2542, 98, 74095, 76, 1998, 844, 6130, 74105, 1080, 161, 30254, 1952, 1400, 1184, 1232, 43, 2591, 45, 74098, 4363, 1727, 74102, 27827, 8492, 219, 5740, 74, 10, 244, 1260, 46, 2650, 996, 768, 67098, 2680, 205, 8581, 31284, 16, 514, 74099, 36034, 1497, 135, 31552, 2814, 8800, 25344, 21593, 600]\n"
     ]
    }
   ],
   "source": [
    "# using regex to find numbers\n",
    "\n",
    "booknum = []\n",
    "\n",
    "for i in range(19,119):\n",
    "    link=lst_links[i]\n",
    "    link=link.strip()\n",
    "\n",
    "    n = re.findall('[0-9]+',link)\n",
    "    if len(n) == 1:\n",
    "        booknum.append(int(n[0]))\n",
    "\n",
    "\n",
    "print(\"/n The file numbers for the top 100 ebooks\",\\\n",
    "    \"on Gutenberg are shown below\\n\"+\"-\"*70)\n",
    "print(booknum)"
   ]
  },
  {
   "cell_type": "code",
   "execution_count": 145,
   "id": "f2c9a81f-23d4-4db5-8951-816c8fa8ee97",
   "metadata": {},
   "outputs": [
    {
     "name": "stdout",
     "output_type": "stream",
     "text": [
      "\n",
      "\n",
      "\n",
      "\n",
      "Top 100 | Project Gutenberg\n",
      "\n",
      "\n",
      "\n",
      "\n",
      "\n",
      "\n",
      "\n",
      "\n",
      "\n",
      "\n",
      "\n",
      "\n",
      "\n",
      "\n",
      "\n",
      "\n",
      "\n",
      "\n",
      "\n",
      "\n",
      "\n",
      "\n",
      "\n",
      "\n",
      "\n",
      "\n",
      "\n",
      "Menu▾\n",
      "\n",
      "\n",
      "\n",
      "About\n",
      "          ▾\n",
      "\n",
      "▾\n",
      "\n",
      "\n",
      "About Project Gutenberg\n",
      "Collection Development\n",
      "Contact Us\n",
      "History & Philosophy\n",
      "Permissions & License\n",
      "Privacy Policy\n",
      "Terms of Use\n",
      "\n",
      "\n",
      "\n",
      "Search and Browse\n",
      "      \t  ▾\n",
      "\n",
      "▾\n",
      "\n",
      "\n",
      "Book Search\n",
      "Bookshelves\n",
      "Frequently Downloaded\n",
      "Offline Catalogs\n",
      "\n",
      "\n",
      "\n",
      "Help\n",
      "          ▾\n",
      "\n",
      "▾\n",
      "\n",
      "\n",
      "All help topics →\n",
      "Copyright How-To\n",
      "Errata, Fixes and Bug Reports\n",
      "File Formats\n",
      "Frequently Asked Questions\n",
      "Policies →\n",
      "Public Domain eBook Submission\n",
      "Submitting Your Own Work\n",
      "Tablets, Phones and eReaders\n",
      "The Attic →\n",
      "\n",
      "\n",
      "Donate\n",
      "\n",
      "\n",
      "\n",
      "\n",
      "\n",
      "\n",
      "\n",
      "\n",
      "\n",
      "\n",
      "Ways to donate\n",
      "\n",
      "\n",
      "\n",
      "\n",
      "\n",
      "\n",
      "\n",
      "Frequently Viewed or Downloaded\n",
      "These listings are based on the number of times each eBook gets downloaded.\n",
      "      Multiple downloads from the same Internet address on the same day count as one download, and addresses that download more than 100 eBooks in a day are considered robots and are not counted.\n",
      "\n",
      "Downloaded Books\n",
      "2024-07-23408106\n",
      "last 7 days2675075\n",
      "last 30 days10986845\n",
      "\n",
      "\n",
      "\n",
      "Top 100 EBooks yesterday\n",
      "Top 100 Authors yesterday\n",
      "Top 100 EBooks last 7 days\n",
      "Top 100 Authors last 7 days\n",
      "Top 100 EBooks last 30 days\n",
      "Top 100 Authors last 30 days\n",
      "\n",
      "\n",
      "Top 100 EBooks yesterday\n",
      "\n",
      "Calculus Made Easy by Silvanus P.  Thompson (4525)\n",
      "Romeo and Juliet by William Shakespeare (3051)\n",
      "Moby Dick; Or, The Whale by Herman Melville (2658)\n",
      "Pride and Prejudice by Jane Austen (2045)\n",
      "A Room with a View by E. M.  Forster (1969)\n",
      "The Complete Works of William Shakespeare by William Shakespeare (1901)\n",
      "Middlemarch by George Eliot (1899)\n",
      "Little Women; Or, Meg, Jo, Beth, and Amy by Louisa May Alcott (1845)\n",
      "The Enchanted April by Elizabeth Von Arnim (1669)\n",
      "The Blue Castle: a novel by L. M.  Montgomery (1661)\n",
      "The Adventures of Ferdinand Count Fathom — Complete by T.  Smollett (1564)\n",
      "Cranford by Elizabeth Cleghorn Gaskell (1529)\n",
      "The Expedition of Humphry Clinker by T.  Smollett (1495)\n",
      "The Adventures of Roderick Random by T.  Smollett (1488)\n",
      "History of Tom Jones, a Foundling by Henry Fielding (1469)\n",
      "Twenty years after b\n"
     ]
    }
   ],
   "source": [
    "print(soup.text[:2000])"
   ]
  },
  {
   "cell_type": "code",
   "execution_count": 147,
   "id": "6670e43b-ea89-428a-9b99-fbcfadf81078",
   "metadata": {},
   "outputs": [],
   "source": [
    "# creating a starting index using splitlines method of soup\n",
    "\n",
    "lst_titles_temp=[]\n",
    "start_idx=soup.text.splitlines().index('Top 100 EBooks yesterday')"
   ]
  },
  {
   "cell_type": "code",
   "execution_count": 149,
   "id": "d6391fe4-368a-4d80-b711-4113a550b8ed",
   "metadata": {},
   "outputs": [],
   "source": [
    "# run the loop 1 to 100 to add strings of the next 100 lines to temp list\n",
    "\n",
    "for i in range(100):\n",
    "    lst_titles_temp.append(soup.text.splitlines() [start_idx+2+i])"
   ]
  },
  {
   "cell_type": "code",
   "execution_count": 151,
   "id": "ef19acc4-425d-4bf5-9de4-69cf2d63ce3b",
   "metadata": {},
   "outputs": [],
   "source": [
    "# using match and span to find the indices \n",
    "lst_titles=[]\n",
    "for i in range(8,100):\n",
    "    id1, id2=re.match('^[a-zA-Z ]*',lst_titles_temp[i]).span()\n",
    "    lst_titles.append(lst_titles_temp[i] [id1:id2])"
   ]
  },
  {
   "cell_type": "code",
   "execution_count": 153,
   "id": "6bd22e92-eb7e-4f43-a2cd-431693f95bef",
   "metadata": {},
   "outputs": [
    {
     "name": "stdout",
     "output_type": "stream",
     "text": [
      "Calculus Made Easy by Silvanus P\n",
      "Romeo and Juliet by William Shakespeare \n",
      "Moby Dick\n",
      "Pride and Prejudice by Jane Austen \n",
      "A Room with a View by E\n",
      "The Complete Works of William Shakespeare by William Shakespeare \n",
      "Middlemarch by George Eliot \n",
      "Little Women\n",
      "The Enchanted April by Elizabeth Von Arnim \n",
      "The Blue Castle\n",
      "The Adventures of Ferdinand Count Fathom \n",
      "Cranford by Elizabeth Cleghorn Gaskell \n",
      "The Expedition of Humphry Clinker by T\n",
      "The Adventures of Roderick Random by T\n",
      "History of Tom Jones\n",
      "Twenty years after by Alexandre Dumas and Auguste Maquet \n",
      "My Life \n",
      "Frankenstein\n",
      "Alice\n",
      "Dracula by Bram Stoker \n",
      "Crime and Punishment by Fyodor Dostoyevsky \n",
      "The Street of the Eye \n",
      "A woman\n",
      "Metamorphosis by Franz Kafka \n",
      "The Picture of Dorian Gray by Oscar Wilde \n",
      "The Great Gatsby by F\n",
      "War and Peace by graf Leo Tolstoy \n",
      "The Adventures of Sherlock Holmes by Arthur Conan Doyle \n",
      "The Devil is an Ass by Ben Jonson \n",
      "Don Quijote by Miguel de Cervantes Saavedra \n",
      "A Christmas Carol by Charles Dickens \n",
      "Ulysses by James Joyce \n",
      "The Brothers Karamazov by Fyodor Dostoyevsky \n",
      "\n",
      "The Wonderful Wizard of Oz by L\n",
      "A Doll\n",
      "A Tale of Two Cities by Charles Dickens \n",
      "The life watch by Lester Del Rey \n",
      "Adventures of Huckleberry Finn by Mark Twain \n",
      "Thus Spake Zarathustra\n",
      "The Importance of Being Earnest\n",
      "The Iliad by Homer \n",
      "The treasure of Mushroom Rock \n",
      "A Modest Proposal by Jonathan Swift \n",
      "Sense and Sensibility by Jane Austen \n",
      "The Romance of Lust\n",
      "The Yellow Wallpaper by Charlotte Perkins Gilman \n",
      "Great Expectations by Charles Dickens \n",
      "The Count of Monte Cristo by Alexandre Dumas and Auguste Maquet \n",
      "The Prince by Niccol\n",
      "The Strange Case of Dr\n",
      "Grimms\n",
      "Anne of Green Gables by L\n",
      "War No\n",
      "Beyond Good and Evil by Friedrich Wilhelm Nietzsche \n",
      "The Odyssey by Homer \n",
      "History of merchant shipping and ancient commerce\n",
      "The Kama Sutra of Vatsyayana by Vatsyayana \n",
      "The King in Yellow by Robert W\n",
      "Heart of Darkness by Joseph Conrad \n",
      "Tractatus Logico\n",
      "The Adventures of Tom Sawyer\n",
      "The King James Version of the Bible \n",
      "A Study in Scarlet by Arthur Conan Doyle \n",
      "Jane Eyre\n",
      "A Christmas Carol in Prose\n",
      "Du c\n",
      "Don Quixote by Miguel de Cervantes Saavedra \n",
      "Wuthering Heights by Emily Bront\n",
      "Winnie\n",
      "Meditations by Emperor of Rome Marcus Aurelius \n",
      "Walden\n",
      "The art of money getting \n",
      "Josefine Mutzenbacher by Felix Salten \n",
      "Peter Pan by J\n",
      "Little Women by Louisa May Alcott \n",
      "The journal of the American\n",
      "White Nights and Other Stories by Fyodor Dostoyevsky \n",
      "The Republic by Plato \n",
      "Les Mis\n",
      "Novo dicion\n",
      "Dubliners by James Joyce \n",
      "The divine comedy by Dante Alighieri \n",
      "The Scarlet Letter by Nathaniel Hawthorne \n",
      "Das Urteil\n",
      "Notes from the Underground by Fyodor Dostoyevsky \n",
      "Literary values and other papers by John Burroughs \n",
      "Treasure Island by Robert Louis Stevenson \n",
      "The Problems of Philosophy by Bertrand Russell \n",
      "Doctrina Christiana \n",
      "The Confessions of St\n",
      "Carmilla by Joseph Sheridan Le Fanu \n"
     ]
    }
   ],
   "source": [
    "# print the list of lines\n",
    "for l in lst_titles:\n",
    "    print(l)"
   ]
  },
  {
   "cell_type": "code",
   "execution_count": null,
   "id": "c36a9a86-5e10-4757-be45-ee2b6a9631d2",
   "metadata": {},
   "outputs": [],
   "source": []
  },
  {
   "cell_type": "code",
   "execution_count": 156,
   "id": "9e77b2b0-e203-4846-a171-bc79cb22b54a",
   "metadata": {},
   "outputs": [],
   "source": [
    "# Excerise 7.2 - Build movie database by reading an api"
   ]
  },
  {
   "cell_type": "code",
   "execution_count": 158,
   "id": "4cb42a32-76cf-4ea1-9269-a0a19e067db9",
   "metadata": {},
   "outputs": [],
   "source": [
    "import urllib.request, urllib.parse, urllib.error\n",
    "import json"
   ]
  },
  {
   "cell_type": "code",
   "execution_count": 160,
   "id": "ef50bf2a-02d4-4a39-8b76-2e3af4c8d003",
   "metadata": {},
   "outputs": [],
   "source": [
    "# Load the secret API key from the JSON file\n",
    "def load_api_key(file_path):\n",
    "    with open(file_path, 'r') as file:\n",
    "        data = json.loads(file.read())\n",
    "        return data['api_key']"
   ]
  },
  {
   "cell_type": "code",
   "execution_count": 162,
   "id": "aca0da6f-f76a-4b5f-85f0-52e6e1575d9b",
   "metadata": {},
   "outputs": [
    {
     "name": "stdout",
     "output_type": "stream",
     "text": [
      "C:/Users/swati/OneDrive/Desktop/Swati/Bellevue/DSC 540/Week7&8/APIkeys.json\n"
     ]
    }
   ],
   "source": [
    "#Path to json file\n",
    "\n",
    "file_path = (r'C:/Users/swati/OneDrive/Desktop/Swati/Bellevue/DSC 540/Week7&8/APIkeys.json')\n",
    "\n",
    "print(file_path)"
   ]
  },
  {
   "cell_type": "code",
   "execution_count": 164,
   "id": "6d7975f7-b3a6-4767-ab86-f990edb0dc8a",
   "metadata": {},
   "outputs": [],
   "source": [
    "# Load the API key\n",
    "api_key = load_api_key(file_path)"
   ]
  },
  {
   "cell_type": "code",
   "execution_count": 166,
   "id": "c23e759b-8e31-4bcf-9ecc-471453313da0",
   "metadata": {},
   "outputs": [
    {
     "name": "stdout",
     "output_type": "stream",
     "text": [
      "Loaded API key: 56ff5b9e\n"
     ]
    }
   ],
   "source": [
    "# Print the API key to verify (optional)\n",
    "print(f\"Loaded API key: {api_key}\")"
   ]
  },
  {
   "cell_type": "code",
   "execution_count": 168,
   "id": "9df24932-f2f7-44d3-bfdc-d2c1bfe6825e",
   "metadata": {},
   "outputs": [],
   "source": [
    "# Store the API key in a JSON file\n",
    "def store_api_key(file_path, api_key):\n",
    "    with open(file_path, 'w') as file:\n",
    "        json.dump({'apikey': api_key}, file)"
   ]
  },
  {
   "cell_type": "code",
   "execution_count": 170,
   "id": "3cc55fb8-a013-4a74-b6e4-eb50a0311493",
   "metadata": {},
   "outputs": [],
   "source": [
    "# Assign the OMDB portal URL to a variable\n",
    "omdb_url = \"http://www.omdbapi.com/?\"\n"
   ]
  },
  {
   "cell_type": "code",
   "execution_count": 172,
   "id": "64800acf-e9a4-4df0-8659-be87112bfb02",
   "metadata": {},
   "outputs": [],
   "source": [
    "# Utility function to print the movie data from a JSON file\n",
    "def print_json(json_data):\n",
    "    list_keys=['Title','Year','Rated','Released',\\\n",
    "               'Runtime','Genre','Director','Writer',\\\n",
    "               'Actors','Plot','Language','Country',\\\n",
    "               'Awards','Ratings','Metascore','imdbRating',\\\n",
    "               'imdbVotes','imdbID']\n",
    "#    print(\"-\"*50)\n",
    "    for k in list_keys:\n",
    "        if k in list(json_data.keys()):\n",
    "            print(f\"{k}: {json_data[k]}\")\n",
    "#     print(\"-\"*50)           \n",
    "#    print(json.dumps(data, indent=4))"
   ]
  },
  {
   "cell_type": "code",
   "execution_count": 174,
   "id": "0da685db-6b30-4b4f-af28-cd5ceb827bb7",
   "metadata": {},
   "outputs": [
    {
     "name": "stdout",
     "output_type": "stream",
     "text": [
      "http://www.omdbapi.com/?&apikey=56ff5b9e\n"
     ]
    }
   ],
   "source": [
    "# Construct the full URL\n",
    "apikey = \"&apikey=56ff5b9e\"\n",
    "\n",
    "full_url = omdb_url + apikey\n",
    "\n",
    "print(full_url)\n",
    "\n"
   ]
  },
  {
   "cell_type": "code",
   "execution_count": 176,
   "id": "8c7a0fe2-b6f5-4975-8c18-e4bbb94ef19b",
   "metadata": {},
   "outputs": [],
   "source": [
    "# Fetch data from the OMDB API\n",
    "response = urllib.request.urlopen(full_url)\n",
    "movie_data = json.loads(response.read())\n",
    "\n",
    "# Print the movie data\n",
    "print_json(movie_data)"
   ]
  },
  {
   "cell_type": "code",
   "execution_count": 178,
   "id": "988d7aa2-3b63-4931-ba08-15e17f29c0ad",
   "metadata": {},
   "outputs": [],
   "source": [
    "def save_poster(json_data):\n",
    "    import os\n",
    "    title = json_data['Title']\n",
    "    poster_url=json_data['Poster']\n",
    "\n",
    "    poster_file_extension=poster_url.split('.')[-1]\n",
    "\n",
    "    poster_data=urllib.request.urlopen(poster_url).read()\n",
    "\n",
    "    savelocation=os.getcwd()+'\\\\'+'Posters'+'\\\\'\n",
    "\n",
    "    if not os.path.isdir(savelocation):\n",
    "        os.mkdir(savelocation)\n",
    "    filename=savelocation+str(title)\\\n",
    "            +'.'+poster_file_extension\n",
    "    f=open(filename,'wb')\n",
    "    f.write(poster_data)\n",
    "    f.close()"
   ]
  },
  {
   "cell_type": "code",
   "execution_count": 180,
   "id": "451a3389-5800-4af9-843c-827dee591bdc",
   "metadata": {},
   "outputs": [],
   "source": [
    "def search_movie(title):\n",
    "    try:\n",
    "        url=omdb_url \\\n",
    "            + urllib.parse.urlencode({'t':str(title)})+apikey\n",
    "        print(f'Retrieving the data of \"{title}\" now ...')\n",
    "        print(url)\n",
    "        uh = urllib.request.urlopen(url)\n",
    "        data = uh.read()\n",
    "        json_data=json.loads(data)\n",
    "        if json_data['Response']=='True':\n",
    "            print_json(json_data)\n",
    "            if json_data['Poster']!='N/A':\n",
    "                save_poster(json_data)\n",
    "        else:\n",
    "            print(\"Error encountered: \",json_data['Error'])\n",
    "    except urllib.error.URLError as e:\n",
    "        print(f\"ERROR: {e.reason}\")"
   ]
  },
  {
   "cell_type": "code",
   "execution_count": 182,
   "id": "5aa338d0-f9f0-4357-ba5d-67b05ad7ae02",
   "metadata": {},
   "outputs": [
    {
     "name": "stdout",
     "output_type": "stream",
     "text": [
      "Retrieving the data of \"Titanic\" now ...\n",
      "http://www.omdbapi.com/?t=Titanic&apikey=56ff5b9e\n",
      "Title: Titanic\n",
      "Year: 1997\n",
      "Rated: PG-13\n",
      "Released: 19 Dec 1997\n",
      "Runtime: 194 min\n",
      "Genre: Drama, Romance\n",
      "Director: James Cameron\n",
      "Writer: James Cameron\n",
      "Actors: Leonardo DiCaprio, Kate Winslet, Billy Zane\n",
      "Plot: A seventeen-year-old aristocrat falls in love with a kind but poor artist aboard the luxurious, ill-fated R.M.S. Titanic.\n",
      "Language: English, Swedish, Italian, French\n",
      "Country: United States, Mexico\n",
      "Awards: Won 11 Oscars. 126 wins & 83 nominations total\n",
      "Ratings: [{'Source': 'Internet Movie Database', 'Value': '7.9/10'}, {'Source': 'Rotten Tomatoes', 'Value': '88%'}, {'Source': 'Metacritic', 'Value': '75/100'}]\n",
      "Metascore: 75\n",
      "imdbRating: 7.9\n",
      "imdbVotes: 1,292,276\n",
      "imdbID: tt0120338\n"
     ]
    }
   ],
   "source": [
    "# search for movie - titanic\n",
    "\n",
    "search_movie(\"Titanic\")"
   ]
  },
  {
   "cell_type": "code",
   "execution_count": 183,
   "id": "5a56cad5-f5f9-4a82-94da-8418fcc022b0",
   "metadata": {},
   "outputs": [
    {
     "name": "stdout",
     "output_type": "stream",
     "text": [
      "Retrieving the data of \"Ramdom_error\" now ...\n",
      "http://www.omdbapi.com/?t=Ramdom_error&apikey=56ff5b9e\n",
      "Error encountered:  Movie not found!\n"
     ]
    }
   ],
   "source": [
    "# search for a movie that does not exist for random error generation\n",
    "\n",
    "search_movie(\"Ramdom_error\")"
   ]
  },
  {
   "cell_type": "code",
   "execution_count": null,
   "id": "b3c16f67-27fc-423c-945b-fce253ed0383",
   "metadata": {},
   "outputs": [],
   "source": []
  },
  {
   "cell_type": "code",
   "execution_count": null,
   "id": "58ae1c6d-6e7f-4956-9bdb-c077695d319d",
   "metadata": {},
   "outputs": [],
   "source": []
  },
  {
   "cell_type": "code",
   "execution_count": 188,
   "id": "3b097260-e54d-467a-8399-73c38d449fd9",
   "metadata": {},
   "outputs": [],
   "source": [
    "# Assigment question 3 - Connect to an API of your choice and do a simple data pull "
   ]
  },
  {
   "cell_type": "code",
   "execution_count": 190,
   "id": "9a10c1a9-32b2-4151-a7ea-b0fd0d864c37",
   "metadata": {},
   "outputs": [
    {
     "name": "stdout",
     "output_type": "stream",
     "text": [
      "Title: Lion (One of a Pair, South Pedestal), Title ID: 656\n",
      "Title: Girl with Cat, Title ID: 117241\n",
      "Title: Nude with Cats, Title ID: 45259\n",
      "Title: Cat Making Up, Title ID: 16227\n",
      "Title: Homesickness, Title ID: 22482\n"
     ]
    }
   ],
   "source": [
    "import requests\n",
    "\n",
    "# URL of the Art Institute of Chicago API with a search query for \"cats\"\n",
    "url = \"https://api.artic.edu/api/v1/artworks/search?q=cats\"\n",
    "\n",
    "# Sending a GET request to the API\n",
    "response = requests.get(url)\n",
    "\n",
    "# Parsing the JSON response\n",
    "data = response.json()\n",
    "\n",
    "# Extracting a subset of data (e.g., titles and artist names of the first 5 artworks)\n",
    "artworks = data['data'][:5]\n",
    "for artwork in artworks:\n",
    "    title = artwork['title']\n",
    "    id = artwork['id']\n",
    "    print(f\"Title: {title}, Title ID: {id}\")"
   ]
  },
  {
   "cell_type": "code",
   "execution_count": null,
   "id": "c1cf53b7-b758-4a3d-a350-c654fc071b0e",
   "metadata": {},
   "outputs": [],
   "source": []
  },
  {
   "cell_type": "code",
   "execution_count": 192,
   "id": "a0aef243-d95f-40e9-a7a0-75a17993e476",
   "metadata": {},
   "outputs": [],
   "source": [
    "# Assignment question 4 - using a dataset plot various charts"
   ]
  },
  {
   "cell_type": "code",
   "execution_count": 195,
   "id": "9ed12918-e7b3-490b-834a-bdb9203e91ad",
   "metadata": {},
   "outputs": [
    {
     "name": "stdout",
     "output_type": "stream",
     "text": [
      "\n",
      " First 2 records :\n",
      "\n",
      "   ORDERNUMBER  QUANTITYORDERED  PRICEEACH  ORDERLINENUMBER   SALES  \\\n",
      "0        10107               30      95.70                2  2871.0   \n",
      "1        10121               34      81.35                5  2765.9   \n",
      "\n",
      "    ORDERDATE  DAYS_SINCE_LASTORDER   STATUS  PRODUCTLINE  MSRP PRODUCTCODE  \\\n",
      "0  24/02/2018                   828  Shipped  Motorcycles    95    S10_1678   \n",
      "1  07/05/2018                   757  Shipped  Motorcycles    95    S10_1678   \n",
      "\n",
      "         CUSTOMERNAME       PHONE             ADDRESSLINE1   CITY POSTALCODE  \\\n",
      "0   Land of Toys Inc.  2125557818  897 Long Airport Avenue    NYC      10022   \n",
      "1  Reims Collectables  26.47.1555       59 rue de l'Abbaye  Reims      51100   \n",
      "\n",
      "  COUNTRY CONTACTLASTNAME CONTACTFIRSTNAME DEALSIZE  \n",
      "0     USA              Yu             Kwai    Small  \n",
      "1  France         Henriot             Paul    Small  \n",
      "\n",
      " Total number of records: \n",
      "\n",
      "(2747, 20)\n"
     ]
    }
   ],
   "source": [
    "# Load necessary libraries\n",
    "import numpy as np\n",
    "import pandas as pd\n",
    "import matplotlib.pyplot as plt\n",
    "\n",
    "# Load the dataset\n",
    "\n",
    "df=pd.read_csv(\"C:/Users/swati/OneDrive/Desktop/Swati/Bellevue/DSC 540/Week7&8/Auto Sales data.csv\", low_memory=False)\n",
    "\n",
    "print(\"\\n First 2 records :\\n\")\n",
    "print(df.head(2))\n",
    "\n",
    "print(\"\\n Total number of records: \\n\")\n",
    "print(df.shape)"
   ]
  },
  {
   "cell_type": "code",
   "execution_count": 197,
   "id": "2d9335df-aff7-460d-883b-6c358c841d4c",
   "metadata": {},
   "outputs": [],
   "source": [
    "grouped1_df = df.groupby('PRODUCTLINE').sum().reset_index()"
   ]
  },
  {
   "cell_type": "code",
   "execution_count": 199,
   "id": "fa4ea647-db3d-4a8c-9ff1-883e8224d512",
   "metadata": {},
   "outputs": [
    {
     "data": {
      "image/png": "[encoded data removed]",
      "text/plain": [
       "<Figure size 640x480 with 1 Axes>"
      ]
     },
     "metadata": {},
     "output_type": "display_data"
    }
   ],
   "source": [
    "# Line plot\n",
    "\n",
    "grouped1_df.plot(x='PRODUCTLINE', y=['SALES', 'MSRP'], kind='line')\n",
    "plt.xlabel('Product line')\n",
    "plt.ylabel('Sales and MSRP')\n",
    "plt.title('Sales and MSRP for various Product lines')\n",
    "plt.show()"
   ]
  },
  {
   "cell_type": "code",
   "execution_count": 200,
   "id": "c770d20a-43c9-4f60-b822-2da2be4033d8",
   "metadata": {},
   "outputs": [
    {
     "data": {
      "image/png": "[encoded data removed]",
      "text/plain": [
       "<Figure size 640x480 with 1 Axes>"
      ]
     },
     "metadata": {},
     "output_type": "display_data"
    }
   ],
   "source": [
    "# Scatter plot\n",
    "\n",
    "grouped1_df.plot(kind='scatter', x='PRODUCTLINE', y='SALES')\n",
    "plt.xlabel('PRODUCT LINE')\n",
    "plt.ylabel('SALES')\n",
    "plt.title('Product line vs Sales')\n",
    "plt.show()"
   ]
  },
  {
   "cell_type": "code",
   "execution_count": 203,
   "id": "1bdb5e43-f235-48a4-b7c4-ddde19df1ec9",
   "metadata": {},
   "outputs": [],
   "source": [
    "grouped_df = df.groupby('DEALSIZE').sum().reset_index()"
   ]
  },
  {
   "cell_type": "code",
   "execution_count": 205,
   "id": "75d51143-4a0d-43dc-b263-f3f1e0a47c56",
   "metadata": {},
   "outputs": [
    {
     "data": {
      "image/png": "[encoded data removed]",
      "text/plain": [
       "<Figure size 640x480 with 1 Axes>"
      ]
     },
     "metadata": {},
     "output_type": "display_data"
    }
   ],
   "source": [
    "# Pie plot\n",
    "\n",
    "grouped_df.plot(kind='pie', y='SALES', labels=grouped_df['DEALSIZE'], autopct='%1.1f%%')\n",
    "plt.title('Category Distribution by Deal size')\n",
    "plt.ylabel('')  # Hide the y-label\n",
    "plt.show()"
   ]
  },
  {
   "cell_type": "code",
   "execution_count": null,
   "id": "fb473d62-03ab-4e81-9a9f-772869a8695e",
   "metadata": {},
   "outputs": [],
   "source": []
  }
 ],
 "metadata": {
  "kernelspec": {
   "display_name": "Python 3 (ipykernel)",
   "language": "python",
   "name": "python3"
  },
  "language_info": {
   "codemirror_mode": {
    "name": "ipython",
    "version": 3
   },
   "file_extension": ".py",
   "mimetype": "text/x-python",
   "name": "python",
   "nbconvert_exporter": "python",
   "pygments_lexer": "ipython3",
   "version": "3.11.7"
  }
 },
 "nbformat": 4,
 "nbformat_minor": 5
}
