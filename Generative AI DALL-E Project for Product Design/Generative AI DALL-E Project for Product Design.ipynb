{
 "cells": [
  {
   "cell_type": "markdown",
   "id": "8e86266c-487e-4e53-9261-60dcae7669f6",
   "metadata": {},
   "source": [
    "# Swati Dogra\n",
    "# DSC 670\n",
    "# Project Milestone -4\n",
    "# Generative AI DALL-E Project for Product Design"
   ]
  },
  {
   "cell_type": "markdown",
   "id": "a9482d97-0bfe-44cd-b0cb-9069535a0236",
   "metadata": {},
   "source": [
    "##### Defining the Open AI Key obtained through OpenAI API"
   ]
  },
  {
   "cell_type": "code",
   "execution_count": 184,
   "id": "5704e866-010b-4021-97b5-fb70eaa79478",
   "metadata": {},
   "outputs": [],
   "source": [
    "import openai\n",
    "\n",
    "# Initialize the OpenAI API with your API key \n"
   ]
  },
  {
   "cell_type": "markdown",
   "id": "d98f548c-f747-4797-854d-3fed7ca0d927",
   "metadata": {},
   "source": [
    "#### Using DALL-E-3 model from open AI we are providing few text prompts to generate images."
   ]
  },
  {
   "cell_type": "markdown",
   "id": "8d2f2daf-b7e4-4def-b245-2f62707c35f3",
   "metadata": {},
   "source": [
    "##### Import Libraries"
   ]
  },
  {
   "cell_type": "code",
   "execution_count": 188,
   "id": "bb38621a-83fd-4c65-b029-e25dc8697bbb",
   "metadata": {},
   "outputs": [],
   "source": [
    "import streamlit as st\n",
    "import requests\n",
    "import openai\n",
    "import time\n",
    "import uuid\n"
   ]
  },
  {
   "cell_type": "markdown",
   "id": "4c38b9ea-2e55-439b-9e5e-235ba4dc6bf3",
   "metadata": {},
   "source": [
    "This block imports the required libraries for the app. Streamlit is used to create the web interface, requests to handle HTTP requests, openai for generating images, and time for simulating delays."
   ]
  },
  {
   "cell_type": "markdown",
   "id": "8c4603dd-c6b6-493e-95ec-5de70d3fe4eb",
   "metadata": {},
   "source": [
    "##### Page Configuration"
   ]
  },
  {
   "cell_type": "code",
   "execution_count": 192,
   "id": "ae31f738-ab71-405a-999a-2fdaedee7211",
   "metadata": {},
   "outputs": [
    {
     "name": "stderr",
     "output_type": "stream",
     "text": [
      "2025-02-23 15:26:30.013 Thread 'MainThread': missing ScriptRunContext! This warning can be ignored when running in bare mode.\n"
     ]
    }
   ],
   "source": [
    "st.set_page_config(layout=\"wide\")"
   ]
  },
  {
   "cell_type": "markdown",
   "id": "13840d82-030a-4adf-85cb-3af127b2be33",
   "metadata": {},
   "source": [
    "This sets the page layout to wide mode, allowing the app to use the full width of the browser window."
   ]
  },
  {
   "cell_type": "markdown",
   "id": "3e5195b8-20eb-4d6d-bb1e-da250ed1de7d",
   "metadata": {},
   "source": [
    "##### Custom CSS Styling"
   ]
  },
  {
   "cell_type": "code",
   "execution_count": 196,
   "id": "33d3b8b0-1d19-4953-b2e6-bbae2e559fee",
   "metadata": {},
   "outputs": [
    {
     "name": "stderr",
     "output_type": "stream",
     "text": [
      "2025-02-23 15:26:30.994 Thread 'MainThread': missing ScriptRunContext! This warning can be ignored when running in bare mode.\n",
      "2025-02-23 15:26:30.995 Thread 'MainThread': missing ScriptRunContext! This warning can be ignored when running in bare mode.\n"
     ]
    },
    {
     "data": {
      "text/plain": [
       "DeltaGenerator()"
      ]
     },
     "execution_count": 196,
     "metadata": {},
     "output_type": "execute_result"
    }
   ],
   "source": [
    "st.markdown(\"\"\"\n",
    "    <style>\n",
    "    .main {\n",
    "        background-color: #ff6f00;\n",
    "        padding: 20px;\n",
    "        border-radius: 10px;\n",
    "    }\n",
    "    .header {\n",
    "        display: flex;\n",
    "        align-items: center;\n",
    "        justify-content: center;\n",
    "    }\n",
    "    .title {\n",
    "        color: #FF6F00;  \n",
    "        font-family: 'Arial';\n",
    "        margin-left: 20px; /* Add some spacing between the logo and the title */\n",
    "    }\n",
    "    .subtitle {\n",
    "        color: #FF6F00; \n",
    "        font-family: 'Arial';\n",
    "        text-align: center;\n",
    "    }\n",
    "    .center {\n",
    "        display: flex;\n",
    "        justify-content: center;\n",
    "        align-items: center;\n",
    "        text-align: center;\n",
    "    }\n",
    "    .left-column {\n",
    "        background-color: #FFA500; \n",
    "        padding: 20px;  \n",
    "        border-radius: 10px;\n",
    "        position: relative; /* Ensure the position is relative */\n",
    "    }\n",
    "    .left-column-content {\n",
    "        position: absolute; /* Absolute positioning for the content */\n",
    "        top: 20px; /* Adjust top alignment */\n",
    "        left: 20px; /* Adjust left alignment */\n",
    "        padding: 20px; /* Add some padding if needed */\n",
    "        z-index: 1; /* Ensure content is above the background */\n",
    "    }\n",
    "    .logo {\n",
    "        width: 50px;\n",
    "        height: 50px;\n",
    "    }\n",
    "    </style>\n",
    "    \"\"\", unsafe_allow_html=True)\n"
   ]
  },
  {
   "cell_type": "markdown",
   "id": "ba7969d9-1480-42e8-944f-4af095fb14db",
   "metadata": {},
   "source": [
    "This CSS styles the app, including background colors, fonts, positioning, and layout of different elements."
   ]
  },
  {
   "cell_type": "markdown",
   "id": "2a289a55-e817-43fd-a24e-a8cf29135f13",
   "metadata": {},
   "source": [
    "##### Functions for Image Generation"
   ]
  },
  {
   "cell_type": "code",
   "execution_count": 200,
   "id": "796e3b7a-c0e5-4b4f-9ee3-eebf0b5b3a4b",
   "metadata": {},
   "outputs": [],
   "source": [
    "def generate_image(prompt):\n",
    "    response = openai.Image.create(\n",
    "        model=\"dall-e-3\",\n",
    "        prompt=prompt,\n",
    "        n=1\n",
    "    )\n",
    "    image_url = response['data'][0]['url']\n",
    "    return image_url\n",
    "\n",
    "def save_image(image_url, save_path):\n",
    "    img_data = requests.get(image_url).content\n",
    "    unique_name = f\"{save_path}_{uuid.uuid4().hex}.png\"\n",
    "    with open(unique_name, 'wb') as handler:\n",
    "        handler.write(img_data)\n",
    "    return f\"Image saved to {unique_name}\"\n",
    "\n"
   ]
  },
  {
   "cell_type": "markdown",
   "id": "b022389f-0f33-4eba-9ed6-2d4a5789de58",
   "metadata": {},
   "source": [
    "generate_image(prompt): Sends the prompt to OpenAI’s DALL-E model and returns the image URL.\n",
    "\n",
    "save_image(image_url, save_path): Downloads the image from the URL and saves it to the specified path."
   ]
  },
  {
   "cell_type": "markdown",
   "id": "7fa0d47f-cdd6-404b-b05d-7b6b56c699e5",
   "metadata": {},
   "source": [
    "##### Streamlit App Structure"
   ]
  },
  {
   "cell_type": "code",
   "execution_count": 204,
   "id": "461ecfa5-a25c-41cf-b1c9-e19dbb0dbce0",
   "metadata": {},
   "outputs": [
    {
     "name": "stderr",
     "output_type": "stream",
     "text": [
      "2025-02-23 15:26:33.271 Thread 'MainThread': missing ScriptRunContext! This warning can be ignored when running in bare mode.\n",
      "2025-02-23 15:26:33.272 Thread 'MainThread': missing ScriptRunContext! This warning can be ignored when running in bare mode.\n",
      "2025-02-23 15:26:33.272 Thread 'MainThread': missing ScriptRunContext! This warning can be ignored when running in bare mode.\n",
      "2025-02-23 15:26:33.273 Thread 'MainThread': missing ScriptRunContext! This warning can be ignored when running in bare mode.\n",
      "2025-02-23 15:26:33.299 Thread 'MainThread': missing ScriptRunContext! This warning can be ignored when running in bare mode.\n",
      "2025-02-23 15:26:33.300 Thread 'MainThread': missing ScriptRunContext! This warning can be ignored when running in bare mode.\n",
      "2025-02-23 15:26:33.301 Thread 'MainThread': missing ScriptRunContext! This warning can be ignored when running in bare mode.\n",
      "2025-02-23 15:26:33.301 Thread 'MainThread': missing ScriptRunContext! This warning can be ignored when running in bare mode.\n",
      "2025-02-23 15:26:33.302 Thread 'MainThread': missing ScriptRunContext! This warning can be ignored when running in bare mode.\n",
      "2025-02-23 15:26:33.302 Thread 'MainThread': missing ScriptRunContext! This warning can be ignored when running in bare mode.\n",
      "2025-02-23 15:26:33.303 Thread 'MainThread': missing ScriptRunContext! This warning can be ignored when running in bare mode.\n",
      "2025-02-23 15:26:33.303 Thread 'MainThread': missing ScriptRunContext! This warning can be ignored when running in bare mode.\n"
     ]
    }
   ],
   "source": [
    "col1, col2 = st.columns([1, 3])\n",
    "\n",
    "with col1:\n",
    "    st.image(\"logo.png\", caption='GenAI Image Generation', width=200)\n",
    "\n",
    "with col2:\n",
    "    st.markdown('<div class=\"main\">', unsafe_allow_html=True)\n",
    "    st.markdown('''\n",
    "        <div class=\"header\">\n",
    "            <h1 class=\"title\">Generative AI DALL-E Project for Product Design</h1>\n",
    "        </div>\n",
    "    ''', unsafe_allow_html=True)\n",
    "    st.markdown('<h2 class=\"subtitle\">Image Generation App by Swati Dogra</h2>', unsafe_allow_html=True)\n"
   ]
  },
  {
   "cell_type": "markdown",
   "id": "330c2d02-2283-412d-89a6-809384d61ad9",
   "metadata": {},
   "source": [
    "st.columns([1, 3]): Creates two columns with a 1:3 ratio.\n",
    "\n",
    "The first column displays the logo.\n",
    "\n",
    "The second column displays the header and title."
   ]
  },
  {
   "cell_type": "markdown",
   "id": "dc441a09-a674-449f-99d7-d23e275716d2",
   "metadata": {},
   "source": [
    "##### User Input and Image Display"
   ]
  },
  {
   "cell_type": "code",
   "execution_count": 208,
   "id": "71c605b2-318c-4c4d-a1f1-3466efdc956f",
   "metadata": {},
   "outputs": [
    {
     "name": "stderr",
     "output_type": "stream",
     "text": [
      "2025-02-23 15:26:34.187 Thread 'MainThread': missing ScriptRunContext! This warning can be ignored when running in bare mode.\n",
      "2025-02-23 15:26:34.187 Thread 'MainThread': missing ScriptRunContext! This warning can be ignored when running in bare mode.\n",
      "2025-02-23 15:26:34.188 Thread 'MainThread': missing ScriptRunContext! This warning can be ignored when running in bare mode.\n",
      "2025-02-23 15:26:34.190 Thread 'MainThread': missing ScriptRunContext! This warning can be ignored when running in bare mode.\n",
      "2025-02-23 15:26:34.190 Thread 'MainThread': missing ScriptRunContext! This warning can be ignored when running in bare mode.\n",
      "2025-02-23 15:26:34.192 Thread 'MainThread': missing ScriptRunContext! This warning can be ignored when running in bare mode.\n",
      "2025-02-23 15:26:34.192 Thread 'MainThread': missing ScriptRunContext! This warning can be ignored when running in bare mode.\n",
      "2025-02-23 15:26:34.193 Thread 'MainThread': missing ScriptRunContext! This warning can be ignored when running in bare mode.\n",
      "2025-02-23 15:26:34.194 Thread 'MainThread': missing ScriptRunContext! This warning can be ignored when running in bare mode.\n",
      "2025-02-23 15:26:34.194 Thread 'MainThread': missing ScriptRunContext! This warning can be ignored when running in bare mode.\n",
      "2025-02-23 15:26:34.195 Thread 'MainThread': missing ScriptRunContext! This warning can be ignored when running in bare mode.\n",
      "2025-02-23 15:26:34.195 Thread 'MainThread': missing ScriptRunContext! This warning can be ignored when running in bare mode.\n",
      "2025-02-23 15:26:34.195 Thread 'MainThread': missing ScriptRunContext! This warning can be ignored when running in bare mode.\n",
      "2025-02-23 15:26:34.195 Thread 'MainThread': missing ScriptRunContext! This warning can be ignored when running in bare mode.\n",
      "2025-02-23 15:26:34.197 Thread 'MainThread': missing ScriptRunContext! This warning can be ignored when running in bare mode.\n",
      "2025-02-23 15:26:34.197 Thread 'MainThread': missing ScriptRunContext! This warning can be ignored when running in bare mode.\n",
      "2025-02-23 15:26:34.197 Thread 'MainThread': missing ScriptRunContext! This warning can be ignored when running in bare mode.\n",
      "2025-02-23 15:26:34.197 Thread 'MainThread': missing ScriptRunContext! This warning can be ignored when running in bare mode.\n",
      "2025-02-23 15:26:34.197 Thread 'MainThread': missing ScriptRunContext! This warning can be ignored when running in bare mode.\n"
     ]
    }
   ],
   "source": [
    "col3, col4 = st.columns([1, 3])\n",
    "\n",
    "if 'generated_images' not in st.session_state:\n",
    "    st.session_state['generated_images'] = []\n",
    "\n",
    "with col4:\n",
    "    st.markdown('<h3>Enter a prompt to generate an image using DALL-E 3.</h3>', unsafe_allow_html=True)\n",
    "    with st.container():\n",
    "        st.markdown('<div class=\"center\">', unsafe_allow_html=True)\n",
    "        user_prompt = st.text_input('**Enter your prompt:**', help=\"Type a creative prompt for generating an image using DALL-E 3.\")\n",
    "        if user_prompt:\n",
    "            if st.button('Generate AI Image', key='main'):\n",
    "                progress_bar = st.progress(0)\n",
    "                with st.spinner('Generating image...'):\n",
    "                    for i in range(100):\n",
    "                        time.sleep(0.02)\n",
    "                        progress_bar.progress(i + 1)\n",
    "                    image_url = generate_image(user_prompt)\n",
    "                    st.image(image_url, caption='Generated Image', use_container_width=True)\n",
    "                    st.session_state['generated_images'].append(image_url)\n",
    "                    save_path = f\"generated_image.png\"\n",
    "                    save_message = save_image(image_url, save_path)\n",
    "                    st.write(save_message)\n",
    "\n",
    "                    st.download_button('Download Image (PNG)', requests.get(image_url).content, file_name='generated_image.png')\n",
    "\n",
    "                    st.markdown('[Share on Twitter](https://twitter.com/intent/tweet?url={})'.format(image_url))\n",
    "                    st.markdown('[Share on Facebook](https://www.facebook.com/sharer/sharer.php?u={})'.format(image_url))\n",
    "                    st.markdown('[Share on Instagram](https://www.instagram.com/?url={})'.format(image_url))\n",
    "                    st.markdown('[Share on LinkedIn](https://www.linkedin.com/sharing/share-offsite/?url={})'.format(image_url))\n",
    "        else:\n",
    "            st.write(\"Please enter a prompt.\")\n"
   ]
  },
  {
   "cell_type": "markdown",
   "id": "d372b83a-d3ce-4478-aece-b811d926fdf6",
   "metadata": {},
   "source": [
    "Another set of columns is created.\n",
    "\n",
    "The app initializes session state to store generated images.\n",
    "\n",
    "Users can enter a prompt, and upon clicking the button, the app generates the image, displays it, and provides download and sharing options."
   ]
  },
  {
   "cell_type": "markdown",
   "id": "da6785a5-68d8-4771-b300-928a22279621",
   "metadata": {},
   "source": [
    "##### History of Generated Images"
   ]
  },
  {
   "cell_type": "code",
   "execution_count": 212,
   "id": "9f5dd865-6cd0-4f1c-a291-2aa458191bff",
   "metadata": {},
   "outputs": [
    {
     "name": "stderr",
     "output_type": "stream",
     "text": [
      "2025-02-23 15:26:34.836 Thread 'MainThread': missing ScriptRunContext! This warning can be ignored when running in bare mode.\n",
      "2025-02-23 15:26:34.837 Thread 'MainThread': missing ScriptRunContext! This warning can be ignored when running in bare mode.\n",
      "2025-02-23 15:26:34.838 Thread 'MainThread': missing ScriptRunContext! This warning can be ignored when running in bare mode.\n"
     ]
    }
   ],
   "source": [
    "st.markdown('## History of Generated Images')\n",
    "thumbnail_width = 150\n",
    "for idx, img_url in enumerate(st.session_state['generated_images']):\n",
    "    st.image(img_url, caption=f'Generated Image {idx+1}', width=thumbnail_width)\n"
   ]
  },
  {
   "cell_type": "markdown",
   "id": "edff9780-e2f6-45dd-9e03-75b173909790",
   "metadata": {},
   "source": [
    "This section displays thumbnails of previously generated images."
   ]
  },
  {
   "cell_type": "markdown",
   "id": "3f59a50f-bcbb-46b0-8019-24729a578598",
   "metadata": {},
   "source": [
    "##### Example Prompts"
   ]
  },
  {
   "cell_type": "code",
   "execution_count": 216,
   "id": "068f2be8-6ae9-4ada-a51d-d3dfb8ba0520",
   "metadata": {},
   "outputs": [
    {
     "name": "stderr",
     "output_type": "stream",
     "text": [
      "2025-02-23 15:26:35.829 Thread 'MainThread': missing ScriptRunContext! This warning can be ignored when running in bare mode.\n",
      "2025-02-23 15:26:35.831 Thread 'MainThread': missing ScriptRunContext! This warning can be ignored when running in bare mode.\n",
      "2025-02-23 15:26:35.832 Thread 'MainThread': missing ScriptRunContext! This warning can be ignored when running in bare mode.\n",
      "2025-02-23 15:26:35.833 Thread 'MainThread': missing ScriptRunContext! This warning can be ignored when running in bare mode.\n",
      "2025-02-23 15:26:35.833 Thread 'MainThread': missing ScriptRunContext! This warning can be ignored when running in bare mode.\n",
      "2025-02-23 15:26:35.834 Thread 'MainThread': missing ScriptRunContext! This warning can be ignored when running in bare mode.\n",
      "2025-02-23 15:26:35.834 Thread 'MainThread': missing ScriptRunContext! This warning can be ignored when running in bare mode.\n",
      "2025-02-23 15:26:35.834 Thread 'MainThread': missing ScriptRunContext! This warning can be ignored when running in bare mode.\n",
      "2025-02-23 15:26:35.835 Thread 'MainThread': missing ScriptRunContext! This warning can be ignored when running in bare mode.\n",
      "2025-02-23 15:26:35.835 Thread 'MainThread': missing ScriptRunContext! This warning can be ignored when running in bare mode.\n",
      "2025-02-23 15:26:35.836 Thread 'MainThread': missing ScriptRunContext! This warning can be ignored when running in bare mode.\n",
      "2025-02-23 15:26:35.837 Thread 'MainThread': missing ScriptRunContext! This warning can be ignored when running in bare mode.\n",
      "2025-02-23 15:26:35.837 Thread 'MainThread': missing ScriptRunContext! This warning can be ignored when running in bare mode.\n",
      "2025-02-23 15:26:35.837 Thread 'MainThread': missing ScriptRunContext! This warning can be ignored when running in bare mode.\n",
      "2025-02-23 15:26:35.837 Thread 'MainThread': missing ScriptRunContext! This warning can be ignored when running in bare mode.\n",
      "2025-02-23 15:26:35.840 Thread 'MainThread': missing ScriptRunContext! This warning can be ignored when running in bare mode.\n",
      "2025-02-23 15:26:35.840 Thread 'MainThread': missing ScriptRunContext! This warning can be ignored when running in bare mode.\n",
      "2025-02-23 15:26:35.842 Thread 'MainThread': missing ScriptRunContext! This warning can be ignored when running in bare mode.\n",
      "2025-02-23 15:26:35.842 Thread 'MainThread': missing ScriptRunContext! This warning can be ignored when running in bare mode.\n",
      "2025-02-23 15:26:35.843 Thread 'MainThread': missing ScriptRunContext! This warning can be ignored when running in bare mode.\n",
      "2025-02-23 15:26:35.843 Thread 'MainThread': missing ScriptRunContext! This warning can be ignored when running in bare mode.\n",
      "2025-02-23 15:26:35.844 Thread 'MainThread': missing ScriptRunContext! This warning can be ignored when running in bare mode.\n",
      "2025-02-23 15:26:35.844 Thread 'MainThread': missing ScriptRunContext! This warning can be ignored when running in bare mode.\n",
      "2025-02-23 15:26:35.845 Thread 'MainThread': missing ScriptRunContext! This warning can be ignored when running in bare mode.\n",
      "2025-02-23 15:26:35.845 Thread 'MainThread': missing ScriptRunContext! This warning can be ignored when running in bare mode.\n",
      "2025-02-23 15:26:35.846 Thread 'MainThread': missing ScriptRunContext! This warning can be ignored when running in bare mode.\n",
      "2025-02-23 15:26:35.847 Thread 'MainThread': missing ScriptRunContext! This warning can be ignored when running in bare mode.\n",
      "2025-02-23 15:26:35.848 Thread 'MainThread': missing ScriptRunContext! This warning can be ignored when running in bare mode.\n",
      "2025-02-23 15:26:35.848 Thread 'MainThread': missing ScriptRunContext! This warning can be ignored when running in bare mode.\n",
      "2025-02-23 15:26:35.848 Thread 'MainThread': missing ScriptRunContext! This warning can be ignored when running in bare mode.\n",
      "2025-02-23 15:26:35.849 Thread 'MainThread': missing ScriptRunContext! This warning can be ignored when running in bare mode.\n",
      "2025-02-23 15:26:35.849 Thread 'MainThread': missing ScriptRunContext! This warning can be ignored when running in bare mode.\n",
      "2025-02-23 15:26:35.850 Thread 'MainThread': missing ScriptRunContext! This warning can be ignored when running in bare mode.\n",
      "2025-02-23 15:26:35.850 Thread 'MainThread': missing ScriptRunContext! This warning can be ignored when running in bare mode.\n",
      "2025-02-23 15:26:35.852 Thread 'MainThread': missing ScriptRunContext! This warning can be ignored when running in bare mode.\n"
     ]
    },
    {
     "data": {
      "text/plain": [
       "DeltaGenerator()"
      ]
     },
     "execution_count": 216,
     "metadata": {},
     "output_type": "execute_result"
    }
   ],
   "source": [
    "# Example prompts in the left column with enhanced background color\n",
    "with col3:\n",
    "    st.markdown('<div class=\"left-column\">', unsafe_allow_html=True)\n",
    "    st.markdown('<div class=\"left-column-content\">', unsafe_allow_html=True)\n",
    "    st.write('Example Prompts:')\n",
    "    example_prompts = [\n",
    "        \"Design a futuristic smartwatch with a holographic display and biometric sensors.\",\n",
    "        \"Create a sleek, eco-friendly electric car with solar panels integrated into the roof.\",\n",
    "        \"Generate a modern, ergonomic office chair with lumbar support and adjustable armrests.\",\n",
    "        \"Design a minimalist, wireless home speaker with touch controls and smart assistant integration.\",\n",
    "        \"Create a stylish, modular kitchen appliance system with interchangeable components.\"\n",
    "    ]\n",
    "\n",
    "    for prompt in example_prompts:\n",
    "        if st.button(f\"Generate: {prompt}\", help=f\"Click to generate an AI image based on the prompt: {prompt}.\"):\n",
    "            progress_bar = st.progress(0)  # Removed help argument here\n",
    "            with st.spinner('Generating image...'):\n",
    "                for i in range(100):\n",
    "                    time.sleep(0.02)  # Simulate time for image generation\n",
    "                    progress_bar.progress(i + 1)\n",
    "                image_url = generate_image(prompt)\n",
    "                st.image(image_url, caption='Generated Image', use_container_width=True)\n",
    "                st.session_state['generated_images'].append(image_url)\n",
    "                save_path = f\"generated_image.png\"\n",
    "                save_message = save_image(image_url, save_path)\n",
    "                st.write(save_message)\n",
    "\n",
    "                # Download button\n",
    "                st.download_button('Download Image (PNG)', requests.get(image_url).content, file_name='generated_image.png', help=\"Download the generated image in PNG format.\")\n",
    "\n",
    "                # Share options\n",
    "                st.markdown('[Share on Twitter](https://twitter.com/intent/tweet?url={})'.format(image_url))\n",
    "                st.markdown('[Share on Facebook](https://www.facebook.com/sharer/sharer.php?u={})'.format(image_url))\n",
    "                st.markdown('[Share on Instagram](https://www.instagram.com/?url={})'.format(image_url))\n",
    "                st.markdown('[Share on LinkedIn](https://www.linkedin.com/sharing/share-offsite/?url={})'.format(image_url))\n",
    "\n",
    "st.markdown('</div>', unsafe_allow_html=True)  # Close the main class div"
   ]
  },
  {
   "cell_type": "markdown",
   "id": "c8d3c6e3-5629-45d6-af80-2c13a0b995d4",
   "metadata": {},
   "source": [
    "Provides a list of example prompts for users to try out, with buttons to generate images based on these prompts."
   ]
  },
  {
   "cell_type": "markdown",
   "id": "061ec379-d36f-40b4-b9c8-dd419586c600",
   "metadata": {},
   "source": [
    "How It Works:\n",
    "\n",
    "Users enter a text prompt in the provided input field and click the \"Generate AI Image\" button.\n",
    "\n",
    "The app sends the prompt to the DALL-E-3 model via the OpenAI API.\n",
    "\n",
    "The generated image URL is returned and displayed in the app.\n",
    "\n",
    "Users can download the generated image and share it on social media platforms."
   ]
  },
  {
   "cell_type": "markdown",
   "id": "379c5b65-f8d2-40c5-a2f2-3eb65b7556bf",
   "metadata": {},
   "source": [
    "This project aims to demonstrate the capabilities of the DALL-E-3 model in generating images based on creative text prompts and provides an interactive web interface for users to explore these capabilities."
   ]
  },
  {
   "cell_type": "code",
   "execution_count": null,
   "id": "9bf649fd-6278-4094-99de-197fac4f6e65",
   "metadata": {},
   "outputs": [],
   "source": []
  },
  {
   "cell_type": "code",
   "execution_count": null,
   "id": "94d0bc58-dbda-4bfe-8b5a-b68ccf8a8278",
   "metadata": {},
   "outputs": [],
   "source": []
  }
 ],
 "metadata": {
  "kernelspec": {
   "display_name": "Python 3 (ipykernel)",
   "language": "python",
   "name": "python3"
  },
  "language_info": {
   "codemirror_mode": {
    "name": "ipython",
    "version": 3
   },
   "file_extension": ".py",
   "mimetype": "text/x-python",
   "name": "python",
   "nbconvert_exporter": "python",
   "pygments_lexer": "ipython3",
   "version": "3.11.7"
  }
 },
 "nbformat": 4,
 "nbformat_minor": 5
}
